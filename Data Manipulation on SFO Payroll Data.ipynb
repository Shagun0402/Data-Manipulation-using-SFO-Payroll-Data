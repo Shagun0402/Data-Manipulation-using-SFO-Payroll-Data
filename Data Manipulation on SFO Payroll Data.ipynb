{
 "cells": [
  {
   "cell_type": "markdown",
   "id": "5ddc964b",
   "metadata": {},
   "source": [
    "### Data Manipulation \n",
    "\n",
    "\n",
    "#### About Dataset\n",
    "SFO Public Department, referred to as SFO, has captured the salary data of all its employees for the years 2011-2014. Now in 2018, the organization is facing some financial crisis. As a first step, HR wants to rationalize employee cost to save payroll budget. You have to perform data manipulation and answer the questions below:\n",
    "\n",
    "\n",
    "#### Data Manipulation Tasks:\n",
    "1. How much total salary cost has increased from year 2011 to 2014?\n",
    "2. Who was the top-earning employee across all the years?\n",
    "Objective: Perform data manipulation and visualization techniques."
   ]
  },
  {
   "cell_type": "code",
   "execution_count": 1,
   "id": "cafc1633",
   "metadata": {},
   "outputs": [],
   "source": [
    "# Import libraries\n",
    "import numpy as np\n",
    "import pandas as pd\n",
    "import matplotlib.pyplot as plt\n",
    "%matplotlib inline"
   ]
  },
  {
   "cell_type": "code",
   "execution_count": 8,
   "id": "7663bfd3",
   "metadata": {},
   "outputs": [
    {
     "name": "stdout",
     "output_type": "stream",
     "text": [
      "(148648, 12)\n"
     ]
    }
   ],
   "source": [
    "# Load the dataset\n",
    "df = pd.read_csv(\"../Machine Learning/Salaries.csv\", delimiter= ',', index_col = 0)\n",
    "\n",
    "# Shape of Dataset - Dimensions of dataset\n",
    "print(df.shape)"
   ]
  },
  {
   "cell_type": "code",
   "execution_count": 26,
   "id": "2810617e",
   "metadata": {},
   "outputs": [
    {
     "name": "stdout",
     "output_type": "stream",
     "text": [
      "         EmployeeName                                        JobTitle  \\\n",
      "Id                                                                      \n",
      "1      NATHANIEL FORD  GENERAL MANAGER-METROPOLITAN TRANSIT AUTHORITY   \n",
      "2        GARY JIMENEZ                 CAPTAIN III (POLICE DEPARTMENT)   \n",
      "3      ALBERT PARDINI                 CAPTAIN III (POLICE DEPARTMENT)   \n",
      "4   CHRISTOPHER CHONG            WIRE ROPE CABLE MAINTENANCE MECHANIC   \n",
      "5     PATRICK GARDNER    DEPUTY CHIEF OF DEPARTMENT,(FIRE DEPARTMENT)   \n",
      "\n",
      "      BasePay  OvertimePay   OtherPay  Benefits   TotalPay  TotalPayBenefits  \\\n",
      "Id                                                                             \n",
      "1   167411.18         0.00  400184.25       NaN  567595.43         567595.43   \n",
      "2   155966.02    245131.88  137811.38       NaN  538909.28         538909.28   \n",
      "3   212739.13    106088.18   16452.60       NaN  335279.91         335279.91   \n",
      "4    77916.00     56120.71  198306.90       NaN  332343.61         332343.61   \n",
      "5   134401.60      9737.00  182234.59       NaN  326373.19         326373.19   \n",
      "\n",
      "    Year  Notes         Agency Status  \n",
      "Id                                     \n",
      "1   2011    NaN  San Francisco    NaN  \n",
      "2   2011    NaN  San Francisco    NaN  \n",
      "3   2011    NaN  San Francisco    NaN  \n",
      "4   2011    NaN  San Francisco    NaN  \n",
      "5   2011    NaN  San Francisco    NaN  \n",
      "<bound method DataFrame.info of              EmployeeName                                        JobTitle  \\\n",
      "Id                                                                          \n",
      "1          NATHANIEL FORD  GENERAL MANAGER-METROPOLITAN TRANSIT AUTHORITY   \n",
      "2            GARY JIMENEZ                 CAPTAIN III (POLICE DEPARTMENT)   \n",
      "3          ALBERT PARDINI                 CAPTAIN III (POLICE DEPARTMENT)   \n",
      "4       CHRISTOPHER CHONG            WIRE ROPE CABLE MAINTENANCE MECHANIC   \n",
      "5         PATRICK GARDNER    DEPUTY CHIEF OF DEPARTMENT,(FIRE DEPARTMENT)   \n",
      "...                   ...                                             ...   \n",
      "148646   Carolyn A Wilson                       Human Services Technician   \n",
      "148648     Joann Anderson                     Communications Dispatcher 2   \n",
      "148649        Leon Walker                                       Custodian   \n",
      "148650      Roy I Tillery                                       Custodian   \n",
      "148654          Joe Lopez                      Counselor, Log Cabin Ranch   \n",
      "\n",
      "          BasePay  OvertimePay   OtherPay  Benefits   TotalPay  \\\n",
      "Id                                                               \n",
      "1       167411.18         0.00  400184.25       NaN  567595.43   \n",
      "2       155966.02    245131.88  137811.38       NaN  538909.28   \n",
      "3       212739.13    106088.18   16452.60       NaN  335279.91   \n",
      "4        77916.00     56120.71  198306.90       NaN  332343.61   \n",
      "5       134401.60      9737.00  182234.59       NaN  326373.19   \n",
      "...           ...          ...        ...       ...        ...   \n",
      "148646       0.00         0.00       0.00       0.0       0.00   \n",
      "148648       0.00         0.00       0.00       0.0       0.00   \n",
      "148649       0.00         0.00       0.00       0.0       0.00   \n",
      "148650       0.00         0.00       0.00       0.0       0.00   \n",
      "148654       0.00         0.00    -618.13       0.0    -618.13   \n",
      "\n",
      "        TotalPayBenefits  Year  Notes         Agency Status  \n",
      "Id                                                           \n",
      "1              567595.43  2011    NaN  San Francisco    NaN  \n",
      "2              538909.28  2011    NaN  San Francisco    NaN  \n",
      "3              335279.91  2011    NaN  San Francisco    NaN  \n",
      "4              332343.61  2011    NaN  San Francisco    NaN  \n",
      "5              326373.19  2011    NaN  San Francisco    NaN  \n",
      "...                  ...   ...    ...            ...    ...  \n",
      "148646              0.00  2014    NaN  San Francisco     PT  \n",
      "148648              0.00  2014    NaN  San Francisco     PT  \n",
      "148649              0.00  2014    NaN  San Francisco     PT  \n",
      "148650              0.00  2014    NaN  San Francisco     PT  \n",
      "148654           -618.13  2014    NaN  San Francisco     PT  \n",
      "\n",
      "[148648 rows x 12 columns]>\n"
     ]
    }
   ],
   "source": [
    "# Peek at the data\n",
    "print(df.head(5))\n",
    "\n",
    "# Get information about the dataset\n",
    "print(df.info)"
   ]
  },
  {
   "cell_type": "code",
   "execution_count": 28,
   "id": "fcaa059e",
   "metadata": {},
   "outputs": [
    {
     "name": "stdout",
     "output_type": "stream",
     "text": [
      "             BasePay    OvertimePay       OtherPay       Benefits  \\\n",
      "count  148043.000000  148648.000000  148648.000000  112490.000000   \n",
      "mean    66325.398119    5065.821161    3648.761721   25007.777439   \n",
      "std     42764.898947   11454.266982    8056.655841   15402.235424   \n",
      "min      -166.010000      -0.010000   -7058.590000     -33.890000   \n",
      "25%     33587.350000       0.000000       0.000000   11535.192500   \n",
      "50%     65007.450000       0.000000     811.205000   28628.365000   \n",
      "75%     94691.050000    4657.597500    4236.035000   35566.790000   \n",
      "max    319275.010000  245131.880000  400184.250000   96570.660000   \n",
      "\n",
      "            TotalPay  TotalPayBenefits           Year  Notes  \n",
      "count  148648.000000     148648.000000  148648.000000    0.0  \n",
      "mean    74770.035453      93694.776345    2012.522617    NaN  \n",
      "std     50516.440633      62792.743250       1.117526    NaN  \n",
      "min      -618.130000       -618.130000    2011.000000    NaN  \n",
      "25%     36169.370000      44072.062500    2012.000000    NaN  \n",
      "50%     71427.130000      92406.020000    2013.000000    NaN  \n",
      "75%    105840.920000     132876.997500    2014.000000    NaN  \n",
      "max    567595.430000     567595.430000    2014.000000    NaN  \n"
     ]
    }
   ],
   "source": [
    "# Get statistical summary of dataset\n",
    "print(df.describe())"
   ]
  },
  {
   "cell_type": "code",
   "execution_count": 51,
   "id": "6e52c3d4",
   "metadata": {},
   "outputs": [
    {
     "name": "stdout",
     "output_type": "stream",
     "text": [
      "Year\n",
      "2011    2.594113e+09\n",
      "2012    3.696790e+09\n",
      "2013    3.814772e+09\n",
      "2014    3.821866e+09\n",
      "Name: TotalPayBenefits, dtype: float64\n"
     ]
    }
   ],
   "source": [
    "# Computing Total Pay Benefits in each year \n",
    "\n",
    "year = df.groupby('Year').sum()['TotalPayBenefits']\n",
    "print(year)\n"
   ]
  },
  {
   "cell_type": "code",
   "execution_count": 34,
   "id": "b92c1cd1",
   "metadata": {},
   "outputs": [
    {
     "name": "stdout",
     "output_type": "stream",
     "text": [
      "Year\n",
      "2011     71743.819645\n",
      "2012    100551.886807\n",
      "2013    101440.519714\n",
      "2014    100261.438668\n",
      "Name: TotalPayBenefits, dtype: float64\n"
     ]
    }
   ],
   "source": [
    "# Computing mean salary cost per year\n",
    "mean_year = df.groupby('Year').mean()['TotalPayBenefits']\n",
    "print(mean_year)"
   ]
  },
  {
   "cell_type": "code",
   "execution_count": 39,
   "id": "4e58add2",
   "metadata": {},
   "outputs": [
    {
     "name": "stdout",
     "output_type": "stream",
     "text": [
      "Profit Difference between 2012 - 2014 by year:  [28808.06716185191, 888.6329073952074, -1179.0810457599146]\n",
      "Total profit difference between 2012-2014: 93499.41620853971\n"
     ]
    }
   ],
   "source": [
    "# Calculating profit difference/year for mean total salary\n",
    "profit_diff = []\n",
    "for i in range(0,3):\n",
    "    i += 1\n",
    "    diff = mean_year.values[i] - mean_year.values[i-1]\n",
    "    profit_diff.append(diff)\n",
    "print(\"Profit Difference between 2012 - 2014 by year: \", profit_diff)\n",
    "print(\"Total profit difference between 2012-2014:\", mean_year.values.mean())\n"
   ]
  },
  {
   "cell_type": "code",
   "execution_count": 50,
   "id": "7e49e1f3",
   "metadata": {},
   "outputs": [
    {
     "name": "stdout",
     "output_type": "stream",
     "text": [
      "JobTitle\n",
      "Chief Investment Officer       436224.36\n",
      "Chief of Police                418019.22\n",
      "Chief, Fire Department         417435.10\n",
      "Gen Mgr, Public Trnsp Dept     379918.72\n",
      "Dep Chf of Dept (Fire Dept)    368006.35\n",
      "Name: TotalPayBenefits, dtype: float64\n",
      "\n",
      "The job title with highest mean salary in year 2014:  Chief Investment Officer\n"
     ]
    }
   ],
   "source": [
    "# Calculating job profile with highest salary for year 2014\n",
    "\n",
    "# Slicing the dataset into entries for year 2014\n",
    "year_2014 = df[df['Year'] == 2014]\n",
    "\n",
    "# calculating the mean values by job titles\n",
    "job_title = year_2014.groupby('JobTitle').mean()['TotalPayBenefits']\n",
    "\n",
    "# calculating  top 5 highest salary based on total pay for each job title\n",
    "highest_salary= job_title.sort_values(ascending= False).head(5)\n",
    "print(highest_salary)\n",
    "\n",
    "print(\"\\nThe job title with highest mean salary in year 2014: \" , highest_salary.index[0])\n"
   ]
  },
  {
   "cell_type": "code",
   "execution_count": 54,
   "id": "af90ea37",
   "metadata": {},
   "outputs": [
    {
     "name": "stdout",
     "output_type": "stream",
     "text": [
      "The money spent on OverTimePay in 2014:  205918599.26999998\n"
     ]
    }
   ],
   "source": [
    "# Calculating the money spent on OvertimePay in year 2014\n",
    "\n",
    "# Create dataset to include entries for year 2014 only\n",
    "year_2014 = df[df['Year'] == 2014]\n",
    "\n",
    "# Find total sum of OvertimePay \n",
    "\n",
    "overtime_sum = year_2014['OvertimePay'].sum()\n",
    "print(\"The money spent on OverTimePay in 2014: \", overtime_sum)\n"
   ]
  },
  {
   "cell_type": "code",
   "execution_count": 60,
   "id": "7a3a8196",
   "metadata": {},
   "outputs": [
    {
     "name": "stdout",
     "output_type": "stream",
     "text": [
      "Top 5 common jobs in 2014 are:\n",
      " \n",
      " Transit Operator                2479\n",
      "Special Nurse                   1478\n",
      "Registered Nurse                1234\n",
      "Public Svc Aide-Public Works     916\n",
      "Firefighter                      815\n",
      "Name: JobTitle, dtype: int64\n"
     ]
    }
   ],
   "source": [
    "# Top 5 common jobs in year 2014 and their costs to SFO\n",
    "\n",
    "# Create dataset to include entries for year 2014 only\n",
    "year_2014 = df[df['Year'] == 2014]\n",
    "\n",
    "common_jobs = year_2014['JobTitle'].value_counts()\n",
    "\n",
    "print(\"Top 5 common jobs in 2014 are:\\n \\n\", common_jobs.head(5))\n"
   ]
  },
  {
   "cell_type": "code",
   "execution_count": 61,
   "id": "440393a5",
   "metadata": {},
   "outputs": [
    {
     "name": "stdout",
     "output_type": "stream",
     "text": [
      " Top 5 highest earning employees across all years: \n",
      " EmployeeName\n",
      "Kevin Lee       1778487.17\n",
      "Steven Lee      1706550.76\n",
      "William Wong    1459954.17\n",
      "Stanley Lee     1457279.68\n",
      "Richard Lee     1268668.84\n",
      "Name: TotalPayBenefits, dtype: float64\n"
     ]
    }
   ],
   "source": [
    "# Top 5 highest earning employees across all years\n",
    "\n",
    "top_earning = df.groupby('EmployeeName').sum()['TotalPayBenefits']\n",
    "print(\" Top 5 highest earning employees across all years: \\n\", top_earning.sort_values(ascending= False).head(5))"
   ]
  }
 ],
 "metadata": {
  "kernelspec": {
   "display_name": "Python 3",
   "language": "python",
   "name": "python3"
  },
  "language_info": {
   "codemirror_mode": {
    "name": "ipython",
    "version": 3
   },
   "file_extension": ".py",
   "mimetype": "text/x-python",
   "name": "python",
   "nbconvert_exporter": "python",
   "pygments_lexer": "ipython3",
   "version": "3.8.8"
  }
 },
 "nbformat": 4,
 "nbformat_minor": 5
}
